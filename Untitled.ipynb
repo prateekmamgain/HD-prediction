{
 "cells": [
  {
   "cell_type": "code",
   "execution_count": 1,
   "id": "3892ed33",
   "metadata": {},
   "outputs": [],
   "source": [
    "from pyspark.sql import SparkSession\n",
    "import pyspark.sql.functions as F"
   ]
  },
  {
   "cell_type": "code",
   "execution_count": 2,
   "id": "87b918cb",
   "metadata": {},
   "outputs": [],
   "source": [
    "spark = SparkSession.builder.appName('HeartDisease').getOrCreate()"
   ]
  },
  {
   "cell_type": "code",
   "execution_count": 3,
   "id": "47190bae",
   "metadata": {},
   "outputs": [
    {
     "data": {
      "text/html": [
       "\n",
       "            <div>\n",
       "                <p><b>SparkSession - in-memory</b></p>\n",
       "                \n",
       "        <div>\n",
       "            <p><b>SparkContext</b></p>\n",
       "\n",
       "            <p><a href=\"http://LAPTOP-9C2I84J8:4040\">Spark UI</a></p>\n",
       "\n",
       "            <dl>\n",
       "              <dt>Version</dt>\n",
       "                <dd><code>v3.3.1</code></dd>\n",
       "              <dt>Master</dt>\n",
       "                <dd><code>local[*]</code></dd>\n",
       "              <dt>AppName</dt>\n",
       "                <dd><code>HeartDisease</code></dd>\n",
       "            </dl>\n",
       "        </div>\n",
       "        \n",
       "            </div>\n",
       "        "
      ],
      "text/plain": [
       "<pyspark.sql.session.SparkSession at 0x1c4572180a0>"
      ]
     },
     "execution_count": 3,
     "metadata": {},
     "output_type": "execute_result"
    }
   ],
   "source": [
    "spark"
   ]
  },
  {
   "cell_type": "markdown",
   "id": "1bda8cf4",
   "metadata": {},
   "source": [
    "### HEART DISEASE DATASET"
   ]
  },
  {
   "cell_type": "markdown",
   "id": "141dbbde",
   "metadata": {},
   "source": [
    "##### THIS DATA INCLUDES VARIABLES THAT CAN BE USED TO PREDICT IF  A PERSON IS LIKELY TO HAVE A HEART DISEASE OR NOT"
   ]
  },
  {
   "cell_type": "code",
   "execution_count": 4,
   "id": "317413c3",
   "metadata": {},
   "outputs": [
    {
     "name": "stdout",
     "output_type": "stream",
     "text": [
      "+---+------+-------------+---------+-----------+---------+----------+-----+--------------+-------+--------+------------+\n",
      "|Age|Gender|ChestPainType|RestingBP|Cholesterol|FastingBS|RestingECG|MaxHR|ExerciseAngina|Oldpeak|ST_Slope|HeartDisease|\n",
      "+---+------+-------------+---------+-----------+---------+----------+-----+--------------+-------+--------+------------+\n",
      "| 40|     M|          ATA|      140|        289|        0|    Normal|  172|             N|    0.0|      Up|           0|\n",
      "| 49|     F|          NAP|      160|        180|        0|    Normal|  156|             N|    1.0|    Flat|           1|\n",
      "| 37|     M|          ATA|      130|        283|        0|        ST|   98|             N|    0.0|      Up|           0|\n",
      "| 48|     F|          ASY|      138|        214|        0|    Normal|  108|             Y|    1.5|    Flat|           1|\n",
      "| 54|     M|          NAP|      150|        195|        0|    Normal|  122|             N|    0.0|      Up|           0|\n",
      "| 39|     M|          NAP|      120|        339|        0|    Normal|  170|             N|    0.0|      Up|           0|\n",
      "| 45|     F|          ATA|      130|        237|        0|    Normal|  170|             N|    0.0|      Up|           0|\n",
      "| 54|     M|          ATA|      110|        208|        0|    Normal|  142|             N|    0.0|      Up|           0|\n",
      "| 37|     M|          ASY|      140|        207|        0|    Normal|  130|             Y|    1.5|    Flat|           1|\n",
      "| 48|     F|          ATA|      120|        284|        0|    Normal|  120|             N|    0.0|      Up|           0|\n",
      "| 37|     F|          NAP|      130|        211|        0|    Normal|  142|             N|    0.0|      Up|           0|\n",
      "| 58|     M|          ATA|      136|        164|        0|        ST|   99|             Y|    2.0|    Flat|           1|\n",
      "| 39|     M|          ATA|      120|        204|        0|    Normal|  145|             N|    0.0|      Up|           0|\n",
      "| 49|     M|          ASY|      140|        234|        0|    Normal|  140|             Y|    1.0|    Flat|           1|\n",
      "| 42|     F|          NAP|      115|        211|        0|        ST|  137|             N|    0.0|      Up|           0|\n",
      "| 54|     F|          ATA|      120|        273|        0|    Normal|  150|             N|    1.5|    Flat|           0|\n",
      "| 38|     M|          ASY|      110|        196|        0|    Normal|  166|             N|    0.0|    Flat|           1|\n",
      "| 43|     F|          ATA|      120|        201|        0|    Normal|  165|             N|    0.0|      Up|           0|\n",
      "| 60|     M|          ASY|      100|        248|        0|    Normal|  125|             N|    1.0|    Flat|           1|\n",
      "| 36|     M|          ATA|      120|        267|        0|    Normal|  160|             N|    3.0|    Flat|           1|\n",
      "+---+------+-------------+---------+-----------+---------+----------+-----+--------------+-------+--------+------------+\n",
      "only showing top 20 rows\n",
      "\n"
     ]
    }
   ],
   "source": [
    "df = spark.read.csv(r\"C:\\Users\\Prateek\\Downloads\\heart.csv\", inferSchema = True, header = True)\n",
    "df.show()"
   ]
  },
  {
   "cell_type": "markdown",
   "id": "09d0a0d1",
   "metadata": {},
   "source": [
    "#### TARGET VARIABLE: HEART DISEASE"
   ]
  },
  {
   "cell_type": "code",
   "execution_count": 5,
   "id": "79b6f619",
   "metadata": {},
   "outputs": [
    {
     "name": "stdout",
     "output_type": "stream",
     "text": [
      "+------------+\n",
      "|HeartDisease|\n",
      "+------------+\n",
      "|           0|\n",
      "|           1|\n",
      "|           0|\n",
      "|           1|\n",
      "|           0|\n",
      "|           0|\n",
      "|           0|\n",
      "|           0|\n",
      "|           1|\n",
      "|           0|\n",
      "|           0|\n",
      "|           1|\n",
      "|           0|\n",
      "|           1|\n",
      "|           0|\n",
      "|           0|\n",
      "|           1|\n",
      "|           0|\n",
      "|           1|\n",
      "|           1|\n",
      "+------------+\n",
      "only showing top 20 rows\n",
      "\n"
     ]
    }
   ],
   "source": [
    "df.select('HeartDisease').show()"
   ]
  },
  {
   "cell_type": "code",
   "execution_count": 6,
   "id": "17452b99",
   "metadata": {},
   "outputs": [
    {
     "data": {
      "text/plain": [
       "918"
      ]
     },
     "execution_count": 6,
     "metadata": {},
     "output_type": "execute_result"
    }
   ],
   "source": [
    "# Number of rows\n",
    "df.count()"
   ]
  },
  {
   "cell_type": "code",
   "execution_count": 7,
   "id": "4792a0cf",
   "metadata": {},
   "outputs": [
    {
     "data": {
      "text/plain": [
       "12"
      ]
     },
     "execution_count": 7,
     "metadata": {},
     "output_type": "execute_result"
    }
   ],
   "source": [
    "# Number of columns\n",
    "len(df.columns)"
   ]
  },
  {
   "cell_type": "markdown",
   "id": "94a01612",
   "metadata": {},
   "source": [
    "#### CHECKING THE DATATYPE IN EACH COLUMN"
   ]
  },
  {
   "cell_type": "code",
   "execution_count": 8,
   "id": "c5475db2",
   "metadata": {},
   "outputs": [
    {
     "name": "stdout",
     "output_type": "stream",
     "text": [
      "root\n",
      " |-- Age: integer (nullable = true)\n",
      " |-- Gender: string (nullable = true)\n",
      " |-- ChestPainType: string (nullable = true)\n",
      " |-- RestingBP: integer (nullable = true)\n",
      " |-- Cholesterol: integer (nullable = true)\n",
      " |-- FastingBS: integer (nullable = true)\n",
      " |-- RestingECG: string (nullable = true)\n",
      " |-- MaxHR: integer (nullable = true)\n",
      " |-- ExerciseAngina: string (nullable = true)\n",
      " |-- Oldpeak: double (nullable = true)\n",
      " |-- ST_Slope: string (nullable = true)\n",
      " |-- HeartDisease: integer (nullable = true)\n",
      "\n"
     ]
    }
   ],
   "source": [
    "df.printSchema()"
   ]
  },
  {
   "cell_type": "markdown",
   "id": "eca1d253",
   "metadata": {},
   "source": [
    "#### NUMBER OF 0s AND 1s IN THE DATASET"
   ]
  },
  {
   "cell_type": "code",
   "execution_count": 9,
   "id": "8407a090",
   "metadata": {},
   "outputs": [
    {
     "name": "stdout",
     "output_type": "stream",
     "text": [
      "+------------+-----+\n",
      "|HeartDisease|count|\n",
      "+------------+-----+\n",
      "|           1|  508|\n",
      "|           0|  410|\n",
      "+------------+-----+\n",
      "\n"
     ]
    }
   ],
   "source": [
    "df.groupby('HeartDisease').count().show()"
   ]
  },
  {
   "cell_type": "markdown",
   "id": "e45ceda2",
   "metadata": {},
   "source": [
    "#### AGE-WISE COUNT OF PATIENTS"
   ]
  },
  {
   "cell_type": "code",
   "execution_count": 10,
   "id": "ce130566",
   "metadata": {},
   "outputs": [
    {
     "name": "stdout",
     "output_type": "stream",
     "text": [
      "+---+-----+\n",
      "|Age|count|\n",
      "+---+-----+\n",
      "| 54|   51|\n",
      "| 58|   42|\n",
      "| 55|   41|\n",
      "| 57|   38|\n",
      "| 56|   38|\n",
      "| 52|   36|\n",
      "| 51|   35|\n",
      "| 62|   35|\n",
      "| 59|   35|\n",
      "| 53|   33|\n",
      "| 60|   32|\n",
      "| 61|   31|\n",
      "| 48|   31|\n",
      "| 63|   30|\n",
      "| 50|   25|\n",
      "| 43|   24|\n",
      "| 46|   24|\n",
      "| 41|   24|\n",
      "| 64|   22|\n",
      "| 65|   21|\n",
      "+---+-----+\n",
      "only showing top 20 rows\n",
      "\n"
     ]
    }
   ],
   "source": [
    "df.groupby('Age').count().sort('count', ascending = False).show()"
   ]
  },
  {
   "cell_type": "markdown",
   "id": "ab197314",
   "metadata": {},
   "source": [
    "#### NUMBER OF FEMALES AND MALES IN THE DATASET"
   ]
  },
  {
   "cell_type": "code",
   "execution_count": 11,
   "id": "d473e62e",
   "metadata": {},
   "outputs": [
    {
     "name": "stdout",
     "output_type": "stream",
     "text": [
      "+------+-----+\n",
      "|Gender|count|\n",
      "+------+-----+\n",
      "|     F|  193|\n",
      "|     M|  725|\n",
      "+------+-----+\n",
      "\n"
     ]
    }
   ],
   "source": [
    "df.groupby('Gender').count().show()\n",
    "\n",
    "#The number of males exceeds the number of females by a high margin, so the dataset is imbalanced in this sense"
   ]
  },
  {
   "cell_type": "markdown",
   "id": "4190141a",
   "metadata": {},
   "source": [
    "#### CONVERTING STRING VARIABLES INTO NUMERIC "
   ]
  },
  {
   "cell_type": "code",
   "execution_count": 12,
   "id": "ffca70c5",
   "metadata": {},
   "outputs": [],
   "source": [
    "from pyspark.ml.feature import StringIndexer\n",
    "from pyspark.ml.feature import VectorAssembler"
   ]
  },
  {
   "cell_type": "code",
   "execution_count": 13,
   "id": "e6a835a7",
   "metadata": {},
   "outputs": [
    {
     "name": "stdout",
     "output_type": "stream",
     "text": [
      "root\n",
      " |-- Age: integer (nullable = true)\n",
      " |-- Gender: string (nullable = true)\n",
      " |-- ChestPainType: string (nullable = true)\n",
      " |-- RestingBP: integer (nullable = true)\n",
      " |-- Cholesterol: integer (nullable = true)\n",
      " |-- FastingBS: integer (nullable = true)\n",
      " |-- RestingECG: string (nullable = true)\n",
      " |-- MaxHR: integer (nullable = true)\n",
      " |-- ExerciseAngina: string (nullable = true)\n",
      " |-- Oldpeak: double (nullable = true)\n",
      " |-- ST_Slope: string (nullable = true)\n",
      " |-- HeartDisease: integer (nullable = true)\n",
      "\n"
     ]
    }
   ],
   "source": [
    "df.printSchema()\n",
    "\n",
    "# We can see that the columns Gender, Chest_Pain_Type, Resting_ECG, Exercise_Angina, and ST_slope are of string datatype"
   ]
  },
  {
   "cell_type": "code",
   "execution_count": 14,
   "id": "9ac65335",
   "metadata": {},
   "outputs": [],
   "source": [
    "indexer = StringIndexer(inputCols = ('Gender', 'ChestPainType', 'RestingECG', 'ExerciseAngina', 'ST_Slope'), outputCols = ('Gender_cat', 'ChestPainType_cat', 'RestingECG_cat', 'ExerciseAngina_cat', 'ST_Slope_cat'))\n",
    "indexed = indexer.fit(df).transform(df)"
   ]
  },
  {
   "cell_type": "code",
   "execution_count": 15,
   "id": "6dc911ff",
   "metadata": {},
   "outputs": [
    {
     "data": {
      "text/plain": [
       "['Age',\n",
       " 'Gender',\n",
       " 'ChestPainType',\n",
       " 'RestingBP',\n",
       " 'Cholesterol',\n",
       " 'FastingBS',\n",
       " 'RestingECG',\n",
       " 'MaxHR',\n",
       " 'ExerciseAngina',\n",
       " 'Oldpeak',\n",
       " 'ST_Slope',\n",
       " 'HeartDisease',\n",
       " 'Gender_cat',\n",
       " 'ChestPainType_cat',\n",
       " 'RestingECG_cat',\n",
       " 'ExerciseAngina_cat',\n",
       " 'ST_Slope_cat']"
      ]
     },
     "execution_count": 15,
     "metadata": {},
     "output_type": "execute_result"
    }
   ],
   "source": [
    "indexed.columns"
   ]
  },
  {
   "cell_type": "markdown",
   "id": "5560d69b",
   "metadata": {},
   "source": [
    "#### CREATING A VECTOR ASSEMBLER"
   ]
  },
  {
   "cell_type": "markdown",
   "id": "c050153e",
   "metadata": {},
   "source": [
    "<b>VectorAssembler is a transformer that combines a given list of columns into a single vector column. It is useful for combining raw features and those generated by different feature transformers into a single feature vector.</b>"
   ]
  },
  {
   "cell_type": "code",
   "execution_count": 16,
   "id": "77ffd963",
   "metadata": {},
   "outputs": [],
   "source": [
    "assembler = VectorAssembler(inputCols = ['Gender_cat', 'ChestPainType_cat', 'FastingBS', 'RestingECG_cat',\n",
    "                                         'ExerciseAngina_cat', 'Oldpeak', 'ST_Slope_cat'],\n",
    "                           outputCol = 'features')"
   ]
  },
  {
   "cell_type": "code",
   "execution_count": 17,
   "id": "f6dd3bc0",
   "metadata": {},
   "outputs": [],
   "source": [
    "output = assembler.transform(indexed)"
   ]
  },
  {
   "cell_type": "code",
   "execution_count": 21,
   "id": "4f07246d",
   "metadata": {},
   "outputs": [
    {
     "name": "stdout",
     "output_type": "stream",
     "text": [
      "+-----------------------------+------------+\n",
      "|features                     |HeartDisease|\n",
      "+-----------------------------+------------+\n",
      "|(7,[1,6],[2.0,1.0])          |0           |\n",
      "|(7,[0,1,5],[1.0,1.0,1.0])    |1           |\n",
      "|(7,[1,3,6],[2.0,2.0,1.0])    |0           |\n",
      "|(7,[0,4,5],[1.0,1.0,1.5])    |1           |\n",
      "|(7,[1,6],[1.0,1.0])          |0           |\n",
      "|(7,[1,6],[1.0,1.0])          |0           |\n",
      "|(7,[0,1,6],[1.0,2.0,1.0])    |0           |\n",
      "|(7,[1,6],[2.0,1.0])          |0           |\n",
      "|(7,[4,5],[1.0,1.5])          |1           |\n",
      "|(7,[0,1,6],[1.0,2.0,1.0])    |0           |\n",
      "|(7,[0,1,6],[1.0,1.0,1.0])    |0           |\n",
      "|[0.0,2.0,0.0,2.0,1.0,2.0,0.0]|1           |\n",
      "|(7,[1,6],[2.0,1.0])          |0           |\n",
      "|(7,[4,5],[1.0,1.0])          |1           |\n",
      "|[1.0,1.0,0.0,2.0,0.0,0.0,1.0]|0           |\n",
      "|(7,[0,1,5],[1.0,2.0,1.5])    |0           |\n",
      "|(7,[],[])                    |1           |\n",
      "|(7,[0,1,6],[1.0,2.0,1.0])    |0           |\n",
      "|(7,[5],[1.0])                |1           |\n",
      "|(7,[1,5],[2.0,3.0])          |1           |\n",
      "+-----------------------------+------------+\n",
      "only showing top 20 rows\n",
      "\n"
     ]
    }
   ],
   "source": [
    "output.select('features', 'HeartDisease').show(truncate = False)"
   ]
  },
  {
   "cell_type": "code",
   "execution_count": 23,
   "id": "cadb654d",
   "metadata": {},
   "outputs": [],
   "source": [
    "model_df = output.select('features', 'HeartDisease')"
   ]
  },
  {
   "cell_type": "code",
   "execution_count": 24,
   "id": "99a060a4",
   "metadata": {},
   "outputs": [
    {
     "name": "stdout",
     "output_type": "stream",
     "text": [
      "+--------------------+------------+\n",
      "|            features|HeartDisease|\n",
      "+--------------------+------------+\n",
      "| (7,[1,6],[2.0,1.0])|           0|\n",
      "|(7,[0,1,5],[1.0,1...|           1|\n",
      "|(7,[1,3,6],[2.0,2...|           0|\n",
      "|(7,[0,4,5],[1.0,1...|           1|\n",
      "| (7,[1,6],[1.0,1.0])|           0|\n",
      "| (7,[1,6],[1.0,1.0])|           0|\n",
      "|(7,[0,1,6],[1.0,2...|           0|\n",
      "| (7,[1,6],[2.0,1.0])|           0|\n",
      "| (7,[4,5],[1.0,1.5])|           1|\n",
      "|(7,[0,1,6],[1.0,2...|           0|\n",
      "|(7,[0,1,6],[1.0,1...|           0|\n",
      "|[0.0,2.0,0.0,2.0,...|           1|\n",
      "| (7,[1,6],[2.0,1.0])|           0|\n",
      "| (7,[4,5],[1.0,1.0])|           1|\n",
      "|[1.0,1.0,0.0,2.0,...|           0|\n",
      "|(7,[0,1,5],[1.0,2...|           0|\n",
      "|           (7,[],[])|           1|\n",
      "|(7,[0,1,6],[1.0,2...|           0|\n",
      "|       (7,[5],[1.0])|           1|\n",
      "| (7,[1,5],[2.0,3.0])|           1|\n",
      "+--------------------+------------+\n",
      "only showing top 20 rows\n",
      "\n"
     ]
    }
   ],
   "source": [
    "model_df.show()"
   ]
  },
  {
   "cell_type": "markdown",
   "id": "af46ad48",
   "metadata": {},
   "source": [
    "#### TRAIN TEST SPLIT"
   ]
  },
  {
   "cell_type": "code",
   "execution_count": 47,
   "id": "94f1f32f",
   "metadata": {},
   "outputs": [],
   "source": [
    "train_df, test_df = model_df.randomSplit([0.8, 0.2], seed = 789)"
   ]
  },
  {
   "cell_type": "code",
   "execution_count": 48,
   "id": "f6a2eb9e",
   "metadata": {},
   "outputs": [
    {
     "name": "stdout",
     "output_type": "stream",
     "text": [
      "743\n",
      "175\n"
     ]
    }
   ],
   "source": [
    "print(train_df.count())\n",
    "print(test_df.count())"
   ]
  },
  {
   "cell_type": "code",
   "execution_count": 49,
   "id": "d4a6c73c",
   "metadata": {},
   "outputs": [],
   "source": [
    "from pyspark.ml.classification import LogisticRegression"
   ]
  },
  {
   "cell_type": "code",
   "execution_count": 50,
   "id": "14464c70",
   "metadata": {},
   "outputs": [],
   "source": [
    "log_reg = LogisticRegression(labelCol = 'HeartDisease').fit(train_df)"
   ]
  },
  {
   "cell_type": "code",
   "execution_count": 51,
   "id": "2d5535d5",
   "metadata": {},
   "outputs": [
    {
     "data": {
      "text/plain": [
       "LogisticRegressionModel: uid=LogisticRegression_0d74b0beff45, numClasses=2, numFeatures=7"
      ]
     },
     "execution_count": 51,
     "metadata": {},
     "output_type": "execute_result"
    }
   ],
   "source": [
    "log_reg"
   ]
  },
  {
   "cell_type": "code",
   "execution_count": 52,
   "id": "e71814bf",
   "metadata": {},
   "outputs": [],
   "source": [
    "train_results = log_reg.evaluate(train_df).predictions"
   ]
  },
  {
   "cell_type": "code",
   "execution_count": 53,
   "id": "e90d8d28",
   "metadata": {},
   "outputs": [
    {
     "name": "stdout",
     "output_type": "stream",
     "text": [
      "+-------------------+------------+--------------------+--------------------+----------+\n",
      "|           features|HeartDisease|       rawPrediction|         probability|prediction|\n",
      "+-------------------+------------+--------------------+--------------------+----------+\n",
      "|          (7,[],[])|           1|[-0.6759856420972...|[0.33715785379091...|       1.0|\n",
      "|          (7,[],[])|           1|[-0.6759856420972...|[0.33715785379091...|       1.0|\n",
      "|          (7,[],[])|           1|[-0.6759856420972...|[0.33715785379091...|       1.0|\n",
      "|          (7,[],[])|           1|[-0.6759856420972...|[0.33715785379091...|       1.0|\n",
      "|          (7,[],[])|           1|[-0.6759856420972...|[0.33715785379091...|       1.0|\n",
      "|          (7,[],[])|           1|[-0.6759856420972...|[0.33715785379091...|       1.0|\n",
      "|          (7,[],[])|           1|[-0.6759856420972...|[0.33715785379091...|       1.0|\n",
      "|          (7,[],[])|           1|[-0.6759856420972...|[0.33715785379091...|       1.0|\n",
      "|          (7,[],[])|           1|[-0.6759856420972...|[0.33715785379091...|       1.0|\n",
      "|          (7,[],[])|           1|[-0.6759856420972...|[0.33715785379091...|       1.0|\n",
      "|          (7,[],[])|           1|[-0.6759856420972...|[0.33715785379091...|       1.0|\n",
      "|          (7,[],[])|           1|[-0.6759856420972...|[0.33715785379091...|       1.0|\n",
      "|          (7,[],[])|           1|[-0.6759856420972...|[0.33715785379091...|       1.0|\n",
      "|          (7,[],[])|           1|[-0.6759856420972...|[0.33715785379091...|       1.0|\n",
      "|          (7,[],[])|           1|[-0.6759856420972...|[0.33715785379091...|       1.0|\n",
      "|          (7,[],[])|           1|[-0.6759856420972...|[0.33715785379091...|       1.0|\n",
      "|          (7,[],[])|           1|[-0.6759856420972...|[0.33715785379091...|       1.0|\n",
      "|          (7,[],[])|           1|[-0.6759856420972...|[0.33715785379091...|       1.0|\n",
      "|          (7,[],[])|           1|[-0.6759856420972...|[0.33715785379091...|       1.0|\n",
      "|(7,[0,1],[1.0,1.0])|           0|[1.70243091937994...|[0.84585196034276...|       0.0|\n",
      "+-------------------+------------+--------------------+--------------------+----------+\n",
      "only showing top 20 rows\n",
      "\n"
     ]
    }
   ],
   "source": [
    "train_results.show()"
   ]
  },
  {
   "cell_type": "code",
   "execution_count": 54,
   "id": "dbf1d40e",
   "metadata": {},
   "outputs": [],
   "source": [
    "results = log_reg.evaluate(test_df).predictions"
   ]
  },
  {
   "cell_type": "code",
   "execution_count": 55,
   "id": "3d441e23",
   "metadata": {},
   "outputs": [
    {
     "name": "stdout",
     "output_type": "stream",
     "text": [
      "+--------------------+------------+--------------------+--------------------+----------+\n",
      "|            features|HeartDisease|       rawPrediction|         probability|prediction|\n",
      "+--------------------+------------+--------------------+--------------------+----------+\n",
      "|           (7,[],[])|           1|[-0.6759856420972...|[0.33715785379091...|       1.0|\n",
      "|           (7,[],[])|           1|[-0.6759856420972...|[0.33715785379091...|       1.0|\n",
      "|           (7,[],[])|           1|[-0.6759856420972...|[0.33715785379091...|       1.0|\n",
      "|       (7,[0],[1.0])|           1|[0.93148363650734...|[0.71737618621218...|       0.0|\n",
      "| (7,[0,1],[1.0,1.0])|           0|[1.70243091937994...|[0.84585196034276...|       0.0|\n",
      "|(7,[0,1,3],[1.0,1...|           0|[1.50821594597613...|[0.81879665962130...|       0.0|\n",
      "|(7,[0,1,5],[1.0,1...|           0|[1.50488286453893...|[0.81830160912534...|       0.0|\n",
      "|(7,[0,1,5],[1.0,2...|           0|[1.81488468611584...|[0.85995119710538...|       0.0|\n",
      "|(7,[0,1,6],[1.0,1...|           0|[3.17292494442926...|[0.95980258545580...|       0.0|\n",
      "|(7,[0,1,6],[1.0,1...|           0|[3.17292494442926...|[0.95980258545580...|       0.0|\n",
      "|(7,[0,1,6],[1.0,1...|           0|[3.17292494442926...|[0.95980258545580...|       0.0|\n",
      "|(7,[0,1,6],[1.0,2...|           0|[3.94387222730186...|[0.98099512989156...|       0.0|\n",
      "|(7,[0,1,6],[1.0,2...|           0|[3.94387222730186...|[0.98099512989156...|       0.0|\n",
      "|(7,[0,1,6],[1.0,2...|           0|[3.94387222730186...|[0.98099512989156...|       0.0|\n",
      "| (7,[0,2],[1.0,1.0])|           1|[-0.5865239950572...|[0.35743280809496...|       1.0|\n",
      "|(7,[0,2,3],[1.0,1...|           1|[-0.9749539418648...|[0.27389417850876...|       1.0|\n",
      "|(7,[0,3,5],[1.0,1...|           0|[0.34217255342150...|[0.58471816541842...|       0.0|\n",
      "|(7,[0,3,5],[1.0,1...|           0|[0.07877514696682...|[0.51968360886906...|       0.0|\n",
      "|(7,[0,3,6],[1.0,1...|           0|[2.20776268815284...|[0.90094444018722...|       0.0|\n",
      "|(7,[0,3,6],[1.0,1...|           1|[2.20776268815284...|[0.90094444018722...|       0.0|\n",
      "+--------------------+------------+--------------------+--------------------+----------+\n",
      "only showing top 20 rows\n",
      "\n"
     ]
    }
   ],
   "source": [
    "results.show()"
   ]
  },
  {
   "cell_type": "markdown",
   "id": "bc7af5a9",
   "metadata": {},
   "source": [
    "### CONFUSION MATRIX"
   ]
  },
  {
   "cell_type": "code",
   "execution_count": 57,
   "id": "8bbce95b",
   "metadata": {},
   "outputs": [
    {
     "name": "stdout",
     "output_type": "stream",
     "text": [
      "True Positives: 79\n",
      "True Negatives: 74\n",
      "False Positives: 10\n",
      "False Negatives: 12\n",
      "Total 918\n",
      "recall 0.8681318681318682\n",
      "precision 0.8876404494382022\n",
      "0.8742857142857143\n"
     ]
    }
   ],
   "source": [
    "tp = results[(results.HeartDisease == 1) & (results.prediction == 1)].count()\n",
    "tn = results[(results.HeartDisease == 0) & (results.prediction == 0)].count()\n",
    "fp = results[(results.HeartDisease == 0) & (results.prediction == 1)].count()\n",
    "fn = results[(results.HeartDisease == 1) & (results.prediction == 0)].count()\n",
    "\n",
    "\n",
    "print(\"True Positives:\", tp)\n",
    "print(\"True Negatives:\", tn)\n",
    "print(\"False Positives:\", fp)\n",
    "print(\"False Negatives:\", fn)\n",
    "print(\"Total\", df.count())\n",
    "\n",
    "r = float(tp)/(tp + fn)\n",
    "print(\"recall\", r)\n",
    "\n",
    "p = float(tp) / (tp + fp)\n",
    "print(\"precision\", p)\n",
    "\n",
    "accuracy = float((tp + tn) / (results.count()))\n",
    "print(accuracy)"
   ]
  },
  {
   "cell_type": "markdown",
   "id": "80543c20",
   "metadata": {},
   "source": [
    "#### Notes:\n",
    "\n",
    "+ stringindexer after train_test_split\n",
    "+ scaling should have been done\n",
    "+ try gridsearch_CV"
   ]
  },
  {
   "cell_type": "code",
   "execution_count": null,
   "id": "43fc78a6",
   "metadata": {},
   "outputs": [],
   "source": []
  }
 ],
 "metadata": {
  "kernelspec": {
   "display_name": "Python 3 (ipykernel)",
   "language": "python",
   "name": "python3"
  },
  "language_info": {
   "codemirror_mode": {
    "name": "ipython",
    "version": 3
   },
   "file_extension": ".py",
   "mimetype": "text/x-python",
   "name": "python",
   "nbconvert_exporter": "python",
   "pygments_lexer": "ipython3",
   "version": "3.9.13"
  }
 },
 "nbformat": 4,
 "nbformat_minor": 5
}
